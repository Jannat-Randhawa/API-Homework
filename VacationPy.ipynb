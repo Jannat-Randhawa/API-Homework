{
 "cells": [
  {
   "cell_type": "markdown",
   "metadata": {},
   "source": [
    "# VacationPy\n",
    "----\n",
    "\n",
    "#### Note\n",
    "* Instructions have been included for each segment. You do not have to follow them exactly, but they are included to help you think through the steps."
   ]
  },
  {
   "cell_type": "code",
   "execution_count": 1,
   "metadata": {},
   "outputs": [],
   "source": [
    "%matplotlib widget"
   ]
  },
  {
   "cell_type": "code",
   "execution_count": 2,
   "metadata": {},
   "outputs": [],
   "source": [
    "# Dependencies and Setup\n",
    "import matplotlib.pyplot as plt\n",
    "import pandas as pd\n",
    "import numpy as np\n",
    "import requests\n",
    "import gmaps\n",
    "import os\n",
    "\n",
    "# Import API key\n",
    "from api_keys import g_key\n",
    "gmaps.configure(api_key = g_key)"
   ]
  },
  {
   "cell_type": "markdown",
   "metadata": {},
   "source": [
    "### Store Part I results into DataFrame\n",
    "* Load the csv exported in Part I to a DataFrame"
   ]
  },
  {
   "cell_type": "code",
   "execution_count": 8,
   "metadata": {},
   "outputs": [
    {
     "data": {
      "text/html": [
       "<div>\n",
       "<style scoped>\n",
       "    .dataframe tbody tr th:only-of-type {\n",
       "        vertical-align: middle;\n",
       "    }\n",
       "\n",
       "    .dataframe tbody tr th {\n",
       "        vertical-align: top;\n",
       "    }\n",
       "\n",
       "    .dataframe thead th {\n",
       "        text-align: right;\n",
       "    }\n",
       "</style>\n",
       "<table border=\"1\" class=\"dataframe\">\n",
       "  <thead>\n",
       "    <tr style=\"text-align: right;\">\n",
       "      <th></th>\n",
       "      <th>City</th>\n",
       "      <th>Country</th>\n",
       "      <th>Lat</th>\n",
       "      <th>Lng</th>\n",
       "      <th>Date</th>\n",
       "      <th>Max Temp</th>\n",
       "      <th>Cloudiness</th>\n",
       "      <th>Wind Speed</th>\n",
       "      <th>Humidity</th>\n",
       "    </tr>\n",
       "  </thead>\n",
       "  <tbody>\n",
       "    <tr>\n",
       "      <th>0</th>\n",
       "      <td>georgetown</td>\n",
       "      <td>MY</td>\n",
       "      <td>5.41</td>\n",
       "      <td>100.34</td>\n",
       "      <td>1587876955</td>\n",
       "      <td>89.60</td>\n",
       "      <td>20</td>\n",
       "      <td>2.24</td>\n",
       "      <td>79</td>\n",
       "    </tr>\n",
       "    <tr>\n",
       "      <th>1</th>\n",
       "      <td>rikitea</td>\n",
       "      <td>PF</td>\n",
       "      <td>-23.12</td>\n",
       "      <td>-134.97</td>\n",
       "      <td>1587877079</td>\n",
       "      <td>76.01</td>\n",
       "      <td>0</td>\n",
       "      <td>17.31</td>\n",
       "      <td>76</td>\n",
       "    </tr>\n",
       "    <tr>\n",
       "      <th>2</th>\n",
       "      <td>punta arenas</td>\n",
       "      <td>CL</td>\n",
       "      <td>-53.15</td>\n",
       "      <td>-70.92</td>\n",
       "      <td>1587876867</td>\n",
       "      <td>30.20</td>\n",
       "      <td>0</td>\n",
       "      <td>3.36</td>\n",
       "      <td>80</td>\n",
       "    </tr>\n",
       "    <tr>\n",
       "      <th>3</th>\n",
       "      <td>jamestown</td>\n",
       "      <td>US</td>\n",
       "      <td>42.10</td>\n",
       "      <td>-79.24</td>\n",
       "      <td>1587876993</td>\n",
       "      <td>51.80</td>\n",
       "      <td>90</td>\n",
       "      <td>10.29</td>\n",
       "      <td>87</td>\n",
       "    </tr>\n",
       "    <tr>\n",
       "      <th>4</th>\n",
       "      <td>mataura</td>\n",
       "      <td>NZ</td>\n",
       "      <td>-46.19</td>\n",
       "      <td>168.86</td>\n",
       "      <td>1587877079</td>\n",
       "      <td>61.00</td>\n",
       "      <td>95</td>\n",
       "      <td>13.00</td>\n",
       "      <td>57</td>\n",
       "    </tr>\n",
       "    <tr>\n",
       "      <th>...</th>\n",
       "      <td>...</td>\n",
       "      <td>...</td>\n",
       "      <td>...</td>\n",
       "      <td>...</td>\n",
       "      <td>...</td>\n",
       "      <td>...</td>\n",
       "      <td>...</td>\n",
       "      <td>...</td>\n",
       "      <td>...</td>\n",
       "    </tr>\n",
       "    <tr>\n",
       "      <th>557</th>\n",
       "      <td>manaquiri</td>\n",
       "      <td>BR</td>\n",
       "      <td>-3.32</td>\n",
       "      <td>-60.35</td>\n",
       "      <td>1587877181</td>\n",
       "      <td>75.20</td>\n",
       "      <td>40</td>\n",
       "      <td>2.24</td>\n",
       "      <td>94</td>\n",
       "    </tr>\n",
       "    <tr>\n",
       "      <th>558</th>\n",
       "      <td>chumikan</td>\n",
       "      <td>RU</td>\n",
       "      <td>54.72</td>\n",
       "      <td>135.31</td>\n",
       "      <td>1587877181</td>\n",
       "      <td>38.01</td>\n",
       "      <td>93</td>\n",
       "      <td>3.09</td>\n",
       "      <td>83</td>\n",
       "    </tr>\n",
       "    <tr>\n",
       "      <th>559</th>\n",
       "      <td>mayumba</td>\n",
       "      <td>GA</td>\n",
       "      <td>-3.43</td>\n",
       "      <td>10.66</td>\n",
       "      <td>1587877181</td>\n",
       "      <td>77.09</td>\n",
       "      <td>100</td>\n",
       "      <td>6.80</td>\n",
       "      <td>87</td>\n",
       "    </tr>\n",
       "    <tr>\n",
       "      <th>560</th>\n",
       "      <td>duluth</td>\n",
       "      <td>US</td>\n",
       "      <td>46.78</td>\n",
       "      <td>-92.11</td>\n",
       "      <td>1587877181</td>\n",
       "      <td>39.99</td>\n",
       "      <td>90</td>\n",
       "      <td>12.75</td>\n",
       "      <td>86</td>\n",
       "    </tr>\n",
       "    <tr>\n",
       "      <th>561</th>\n",
       "      <td>waterloo</td>\n",
       "      <td>CA</td>\n",
       "      <td>43.47</td>\n",
       "      <td>-80.52</td>\n",
       "      <td>1587877078</td>\n",
       "      <td>48.00</td>\n",
       "      <td>90</td>\n",
       "      <td>8.05</td>\n",
       "      <td>28</td>\n",
       "    </tr>\n",
       "  </tbody>\n",
       "</table>\n",
       "<p>562 rows × 9 columns</p>\n",
       "</div>"
      ],
      "text/plain": [
       "             City Country    Lat     Lng        Date  Max Temp  Cloudiness  \\\n",
       "0      georgetown      MY   5.41  100.34  1587876955     89.60          20   \n",
       "1         rikitea      PF -23.12 -134.97  1587877079     76.01           0   \n",
       "2    punta arenas      CL -53.15  -70.92  1587876867     30.20           0   \n",
       "3       jamestown      US  42.10  -79.24  1587876993     51.80          90   \n",
       "4         mataura      NZ -46.19  168.86  1587877079     61.00          95   \n",
       "..            ...     ...    ...     ...         ...       ...         ...   \n",
       "557     manaquiri      BR  -3.32  -60.35  1587877181     75.20          40   \n",
       "558      chumikan      RU  54.72  135.31  1587877181     38.01          93   \n",
       "559       mayumba      GA  -3.43   10.66  1587877181     77.09         100   \n",
       "560        duluth      US  46.78  -92.11  1587877181     39.99          90   \n",
       "561      waterloo      CA  43.47  -80.52  1587877078     48.00          90   \n",
       "\n",
       "     Wind Speed  Humidity  \n",
       "0          2.24        79  \n",
       "1         17.31        76  \n",
       "2          3.36        80  \n",
       "3         10.29        87  \n",
       "4         13.00        57  \n",
       "..          ...       ...  \n",
       "557        2.24        94  \n",
       "558        3.09        83  \n",
       "559        6.80        87  \n",
       "560       12.75        86  \n",
       "561        8.05        28  \n",
       "\n",
       "[562 rows x 9 columns]"
      ]
     },
     "execution_count": 8,
     "metadata": {},
     "output_type": "execute_result"
    }
   ],
   "source": [
    "weather_data = pd.read_csv(\"output_data/cities.csv\")\n",
    "weather_data"
   ]
  },
  {
   "cell_type": "markdown",
   "metadata": {},
   "source": [
    "### Humidity Heatmap\n",
    "* Configure gmaps.\n",
    "* Use the Lat and Lng as locations and Humidity as the weight.\n",
    "* Add Heatmap layer to map."
   ]
  },
  {
   "cell_type": "code",
   "execution_count": 9,
   "metadata": {},
   "outputs": [],
   "source": [
    "fig = gmaps.figure()\n",
    "\n",
    "#Set locations for the heat map. \n",
    "locations = weather_data[[\"Lat\", \"Lng\"]]\n",
    "\n",
    "#Set humidity as weight for the heat map. \n",
    "humidity = weather_data[\"Humidity\"]"
   ]
  },
  {
   "cell_type": "code",
   "execution_count": 10,
   "metadata": {},
   "outputs": [
    {
     "data": {
      "application/vnd.jupyter.widget-view+json": {
       "model_id": "247c35a5c61049918f8080a7598a498c",
       "version_major": 2,
       "version_minor": 0
      },
      "text/plain": [
       "Figure(layout=FigureLayout(height='420px'))"
      ]
     },
     "metadata": {},
     "output_type": "display_data"
    }
   ],
   "source": [
    "\n",
    "#Create heat layer \n",
    "heat_layer = gmaps.heatmap_layer(locations, weights= humidity, max_intensity=10, \n",
    "                                point_radius=1, dissipating=False)\n",
    "fig.add_layer(heat_layer)\n",
    "fig\n"
   ]
  },
  {
   "cell_type": "markdown",
   "metadata": {},
   "source": [
    "### Create new DataFrame fitting weather criteria\n",
    "* Narrow down the cities to fit weather conditions.\n",
    "* Drop any rows will null values."
   ]
  },
  {
   "cell_type": "code",
   "execution_count": 11,
   "metadata": {},
   "outputs": [
    {
     "data": {
      "text/html": [
       "<div>\n",
       "<style scoped>\n",
       "    .dataframe tbody tr th:only-of-type {\n",
       "        vertical-align: middle;\n",
       "    }\n",
       "\n",
       "    .dataframe tbody tr th {\n",
       "        vertical-align: top;\n",
       "    }\n",
       "\n",
       "    .dataframe thead th {\n",
       "        text-align: right;\n",
       "    }\n",
       "</style>\n",
       "<table border=\"1\" class=\"dataframe\">\n",
       "  <thead>\n",
       "    <tr style=\"text-align: right;\">\n",
       "      <th></th>\n",
       "      <th>City</th>\n",
       "      <th>Country</th>\n",
       "      <th>Lat</th>\n",
       "      <th>Lng</th>\n",
       "      <th>Date</th>\n",
       "      <th>Max Temp</th>\n",
       "      <th>Cloudiness</th>\n",
       "      <th>Wind Speed</th>\n",
       "      <th>Humidity</th>\n",
       "    </tr>\n",
       "  </thead>\n",
       "  <tbody>\n",
       "    <tr>\n",
       "      <th>89</th>\n",
       "      <td>culiacan</td>\n",
       "      <td>MX</td>\n",
       "      <td>24.80</td>\n",
       "      <td>-107.39</td>\n",
       "      <td>1587876885</td>\n",
       "      <td>73.00</td>\n",
       "      <td>0</td>\n",
       "      <td>1.92</td>\n",
       "      <td>62</td>\n",
       "    </tr>\n",
       "    <tr>\n",
       "      <th>147</th>\n",
       "      <td>puerto penasco</td>\n",
       "      <td>MX</td>\n",
       "      <td>31.32</td>\n",
       "      <td>-113.53</td>\n",
       "      <td>1587877105</td>\n",
       "      <td>79.00</td>\n",
       "      <td>0</td>\n",
       "      <td>5.99</td>\n",
       "      <td>51</td>\n",
       "    </tr>\n",
       "    <tr>\n",
       "      <th>238</th>\n",
       "      <td>korla</td>\n",
       "      <td>CN</td>\n",
       "      <td>41.76</td>\n",
       "      <td>86.15</td>\n",
       "      <td>1587877135</td>\n",
       "      <td>77.13</td>\n",
       "      <td>0</td>\n",
       "      <td>1.70</td>\n",
       "      <td>11</td>\n",
       "    </tr>\n",
       "    <tr>\n",
       "      <th>255</th>\n",
       "      <td>taoudenni</td>\n",
       "      <td>ML</td>\n",
       "      <td>22.68</td>\n",
       "      <td>-3.98</td>\n",
       "      <td>1587877140</td>\n",
       "      <td>75.69</td>\n",
       "      <td>0</td>\n",
       "      <td>6.46</td>\n",
       "      <td>18</td>\n",
       "    </tr>\n",
       "    <tr>\n",
       "      <th>267</th>\n",
       "      <td>aswan</td>\n",
       "      <td>EG</td>\n",
       "      <td>24.09</td>\n",
       "      <td>32.91</td>\n",
       "      <td>1587877141</td>\n",
       "      <td>77.36</td>\n",
       "      <td>0</td>\n",
       "      <td>8.68</td>\n",
       "      <td>27</td>\n",
       "    </tr>\n",
       "    <tr>\n",
       "      <th>459</th>\n",
       "      <td>gondar</td>\n",
       "      <td>ET</td>\n",
       "      <td>12.60</td>\n",
       "      <td>37.47</td>\n",
       "      <td>1587877167</td>\n",
       "      <td>75.31</td>\n",
       "      <td>0</td>\n",
       "      <td>4.81</td>\n",
       "      <td>20</td>\n",
       "    </tr>\n",
       "  </tbody>\n",
       "</table>\n",
       "</div>"
      ],
      "text/plain": [
       "               City Country    Lat     Lng        Date  Max Temp  Cloudiness  \\\n",
       "89         culiacan      MX  24.80 -107.39  1587876885     73.00           0   \n",
       "147  puerto penasco      MX  31.32 -113.53  1587877105     79.00           0   \n",
       "238           korla      CN  41.76   86.15  1587877135     77.13           0   \n",
       "255       taoudenni      ML  22.68   -3.98  1587877140     75.69           0   \n",
       "267           aswan      EG  24.09   32.91  1587877141     77.36           0   \n",
       "459          gondar      ET  12.60   37.47  1587877167     75.31           0   \n",
       "\n",
       "     Wind Speed  Humidity  \n",
       "89         1.92        62  \n",
       "147        5.99        51  \n",
       "238        1.70        11  \n",
       "255        6.46        18  \n",
       "267        8.68        27  \n",
       "459        4.81        20  "
      ]
     },
     "execution_count": 11,
     "metadata": {},
     "output_type": "execute_result"
    }
   ],
   "source": [
    "new_weather_data = weather_data.loc[(weather_data[\"Cloudiness\"] == 0) \\\n",
    "                                   & (weather_data[\"Humidity\"]< 65) \\\n",
    "                                   & (weather_data[\"Max Temp\"]>70) & (weather_data[\"Max Temp\"]<80) \\\n",
    "                                   & (weather_data[\"Wind Speed\"]< 10)]\n",
    "new_weather_data.dropna()"
   ]
  },
  {
   "cell_type": "markdown",
   "metadata": {},
   "source": [
    "### Hotel Map\n",
    "* Store into variable named `hotel_df`.\n",
    "* Add a \"Hotel Name\" column to the DataFrame.\n",
    "* Set parameters to search for hotels with 5000 meters.\n",
    "* Hit the Google Places API for each city's coordinates.\n",
    "* Store the first Hotel result into the DataFrame.\n",
    "* Plot markers on top of the heatmap."
   ]
  },
  {
   "cell_type": "code",
   "execution_count": 7,
   "metadata": {},
   "outputs": [
    {
     "data": {
      "text/html": [
       "<div>\n",
       "<style scoped>\n",
       "    .dataframe tbody tr th:only-of-type {\n",
       "        vertical-align: middle;\n",
       "    }\n",
       "\n",
       "    .dataframe tbody tr th {\n",
       "        vertical-align: top;\n",
       "    }\n",
       "\n",
       "    .dataframe thead th {\n",
       "        text-align: right;\n",
       "    }\n",
       "</style>\n",
       "<table border=\"1\" class=\"dataframe\">\n",
       "  <thead>\n",
       "    <tr style=\"text-align: right;\">\n",
       "      <th></th>\n",
       "      <th>City</th>\n",
       "      <th>Country</th>\n",
       "      <th>Lat</th>\n",
       "      <th>Lng</th>\n",
       "      <th>Hotel Name</th>\n",
       "    </tr>\n",
       "  </thead>\n",
       "  <tbody>\n",
       "    <tr>\n",
       "      <th>89</th>\n",
       "      <td>culiacan</td>\n",
       "      <td>MX</td>\n",
       "      <td>24.80</td>\n",
       "      <td>-107.39</td>\n",
       "      <td></td>\n",
       "    </tr>\n",
       "    <tr>\n",
       "      <th>147</th>\n",
       "      <td>puerto penasco</td>\n",
       "      <td>MX</td>\n",
       "      <td>31.32</td>\n",
       "      <td>-113.53</td>\n",
       "      <td></td>\n",
       "    </tr>\n",
       "    <tr>\n",
       "      <th>238</th>\n",
       "      <td>korla</td>\n",
       "      <td>CN</td>\n",
       "      <td>41.76</td>\n",
       "      <td>86.15</td>\n",
       "      <td></td>\n",
       "    </tr>\n",
       "    <tr>\n",
       "      <th>255</th>\n",
       "      <td>taoudenni</td>\n",
       "      <td>ML</td>\n",
       "      <td>22.68</td>\n",
       "      <td>-3.98</td>\n",
       "      <td></td>\n",
       "    </tr>\n",
       "    <tr>\n",
       "      <th>267</th>\n",
       "      <td>aswan</td>\n",
       "      <td>EG</td>\n",
       "      <td>24.09</td>\n",
       "      <td>32.91</td>\n",
       "      <td></td>\n",
       "    </tr>\n",
       "    <tr>\n",
       "      <th>459</th>\n",
       "      <td>gondar</td>\n",
       "      <td>ET</td>\n",
       "      <td>12.60</td>\n",
       "      <td>37.47</td>\n",
       "      <td></td>\n",
       "    </tr>\n",
       "  </tbody>\n",
       "</table>\n",
       "</div>"
      ],
      "text/plain": [
       "               City Country    Lat     Lng Hotel Name\n",
       "89         culiacan      MX  24.80 -107.39           \n",
       "147  puerto penasco      MX  31.32 -113.53           \n",
       "238           korla      CN  41.76   86.15           \n",
       "255       taoudenni      ML  22.68   -3.98           \n",
       "267           aswan      EG  24.09   32.91           \n",
       "459          gondar      ET  12.60   37.47           "
      ]
     },
     "execution_count": 7,
     "metadata": {},
     "output_type": "execute_result"
    }
   ],
   "source": [
    "hotel_df = new_weather_data.filter([\"City\", \"Country\", \"Lat\", \"Lng\"])\n",
    "hotel_df[\"Hotel Name\"] = \"\"\n",
    "hotel_df"
   ]
  },
  {
   "cell_type": "code",
   "execution_count": 8,
   "metadata": {},
   "outputs": [
    {
     "name": "stdout",
     "output_type": "stream",
     "text": [
      "Missing field/result... skipping\n",
      "Missing field/result... skipping\n",
      "Missing field/result... skipping\n",
      "Missing field/result... skipping\n",
      "Missing field/result... skipping\n",
      "Missing field/result... skipping\n"
     ]
    }
   ],
   "source": [
    "#Set params \n",
    "params = {\"radius\": 5000, \n",
    "         \"types\": \"lodging\",\n",
    "         \"key\": \"g_key\"}\n",
    "\n",
    "#Loop through hotel_df and find hotels in each city: \n",
    "for index, row in hotel_df.iterrows(): \n",
    "    base_url = \"https://maps.googleapis.com/maps/api/place/nearbysearch/json\"\n",
    "    \n",
    "    lat = row[\"Lat\"]\n",
    "    lng = row[\"Lng\"]\n",
    "    \n",
    "    #Change locations while keeping the params same\n",
    "    params[\"location\"] = f\"{lat},{lng}\"\n",
    "    \n",
    "    #make request and print url\n",
    "    name_address = requests.get(base_url, params=params).json()\n",
    "  \n",
    "    \n",
    "    try: \n",
    "        hotel_df.loc[index, \"Hotel Name\"] = name_address[\"results\"][0][\"name\"]\n",
    "    except (KeyError, IndexError):\n",
    "        print(f\"Missing field/result... skipping\")\n",
    "    \n"
   ]
  },
  {
   "cell_type": "code",
   "execution_count": 9,
   "metadata": {},
   "outputs": [],
   "source": [
    "# NOTE: Do not change any of the code in this cell\n",
    "\n",
    "# Using the template add the hotel marks to the heatmap\n",
    "info_box_template = \"\"\"\n",
    "<dl>\n",
    "<dt>Name</dt><dd>{Hotel Name}</dd>\n",
    "<dt>City</dt><dd>{City}</dd>\n",
    "<dt>Country</dt><dd>{Country}</dd>\n",
    "</dl>\n",
    "\"\"\"\n",
    "# Store the DataFrame Row\n",
    "# NOTE: be sure to update with your DataFrame name\n",
    "hotel_info = [info_box_template.format(**row) for index, row in hotel_df.iterrows()]\n",
    "locations = hotel_df[[\"Lat\", \"Lng\"]]"
   ]
  },
  {
   "cell_type": "code",
   "execution_count": 10,
   "metadata": {},
   "outputs": [
    {
     "data": {
      "application/vnd.jupyter.widget-view+json": {
       "model_id": "0cc0f168e24f43309c4cbc600ad4751d",
       "version_major": 2,
       "version_minor": 0
      },
      "text/plain": [
       "Figure(layout=FigureLayout(height='420px'))"
      ]
     },
     "metadata": {},
     "output_type": "display_data"
    }
   ],
   "source": [
    "# Add marker layer ontop of heat map\n",
    "marker_layer = gmaps.marker_layer(locations, info_box_content = hotel_info)\n",
    "fig.add_layer(marker_layer)\n",
    "# Display Map\n",
    "fig"
   ]
  },
  {
   "cell_type": "code",
   "execution_count": null,
   "metadata": {},
   "outputs": [],
   "source": []
  }
 ],
 "metadata": {
  "kernelspec": {
   "display_name": "base",
   "language": "python",
   "name": "base"
  },
  "language_info": {
   "codemirror_mode": {
    "name": "ipython",
    "version": 3
   },
   "file_extension": ".py",
   "mimetype": "text/x-python",
   "name": "python",
   "nbconvert_exporter": "python",
   "pygments_lexer": "ipython3",
   "version": "3.7.4"
  },
  "latex_envs": {
   "LaTeX_envs_menu_present": true,
   "autoclose": false,
   "autocomplete": true,
   "bibliofile": "biblio.bib",
   "cite_by": "apalike",
   "current_citInitial": 1,
   "eqLabelWithNumbers": true,
   "eqNumInitial": 1,
   "hotkeys": {
    "equation": "Ctrl-E",
    "itemize": "Ctrl-I"
   },
   "labels_anchors": false,
   "latex_user_defs": false,
   "report_style_numbering": false,
   "user_envs_cfg": false
  },
  "widgets": {
   "application/vnd.jupyter.widget-state+json": {
    "state": {
     "097b4618d87344d7bd5c080164b389b0": {
      "model_module": "@jupyter-widgets/base",
      "model_module_version": "1.2.0",
      "model_name": "LayoutModel",
      "state": {
       "height": "100%",
       "width": "100%"
      }
     },
     "488272f6adfa4c339806801029c35887": {
      "model_module": "@jupyter-widgets/base",
      "model_module_version": "1.2.0",
      "model_name": "LayoutModel",
      "state": {
       "height": "100%",
       "width": "100%"
      }
     },
     "809f77aff79a47258cf35bf23147baf7": {
      "model_module": "@jupyter-widgets/base",
      "model_module_version": "1.2.0",
      "model_name": "LayoutModel",
      "state": {
       "height": "420px"
      }
     },
     "83cd94c264534308b61376fe99ce3772": {
      "model_module": "@jupyter-widgets/base",
      "model_module_version": "1.2.0",
      "model_name": "LayoutModel",
      "state": {}
     },
     "847496bd5b0f4ba5bdf61fb65464a392": {
      "model_module": "@jupyter-widgets/base",
      "model_module_version": "1.2.0",
      "model_name": "LayoutModel",
      "state": {
       "height": "420px"
      }
     },
     "ac9809ccd5a542c7991f9eeab1d22acc": {
      "model_module": "@jupyter-widgets/base",
      "model_module_version": "1.2.0",
      "model_name": "LayoutModel",
      "state": {}
     },
     "c09cff8eb4fb41e99a3e1dcd35a5d25e": {
      "model_module": "@jupyter-widgets/base",
      "model_module_version": "1.2.0",
      "model_name": "LayoutModel",
      "state": {}
     },
     "e7162a30f6984985a0851cacd4673162": {
      "model_module": "@jupyter-widgets/base",
      "model_module_version": "1.2.0",
      "model_name": "LayoutModel",
      "state": {}
     }
    },
    "version_major": 2,
    "version_minor": 0
   }
  }
 },
 "nbformat": 4,
 "nbformat_minor": 4
}
